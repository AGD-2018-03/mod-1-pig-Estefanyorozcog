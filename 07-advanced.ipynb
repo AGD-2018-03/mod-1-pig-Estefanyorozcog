{
 "cells": [
  {
   "cell_type": "markdown",
   "metadata": {},
   "source": [
    "Programación Avanzada\n",
    "==="
   ]
  },
  {
   "cell_type": "code",
   "execution_count": 2,
   "metadata": {},
   "outputs": [
    {
     "name": "stdout",
     "output_type": "stream",
     "text": [
      "\n"
     ]
    }
   ],
   "source": [
    "%run bd.py\n",
    "%pig_init"
   ]
  },
  {
   "cell_type": "markdown",
   "metadata": {},
   "source": [
    "## flatten"
   ]
  },
  {
   "cell_type": "code",
   "execution_count": 3,
   "metadata": {},
   "outputs": [
    {
     "name": "stdout",
     "output_type": "stream",
     "text": [
      "Writing data.tsv\n"
     ]
    }
   ],
   "source": [
    "%%writefile data.tsv\n",
    "A\t10\t(1, 2)\n",
    "B\t20\t(3, 4)\n",
    "C\t30\t(5, 6)\n",
    "D\t40\t(7, 8)"
   ]
  },
  {
   "cell_type": "code",
   "execution_count": 4,
   "metadata": {},
   "outputs": [
    {
     "name": "stdout",
     "output_type": "stream",
     "text": [
      "(A,10,(1,2))\n",
      "(B,20,(3,4))\n",
      "(C,30,(5,6))\n",
      "(D,40,(7,8))\n"
     ]
    }
   ],
   "source": [
    "%%pig\n",
    "u = LOAD 'data.tsv'\n",
    "    AS (f1:chararray, f2:int, f3:tuple(p:int, q:int));\n",
    "DUMP u;"
   ]
  },
  {
   "cell_type": "code",
   "execution_count": 5,
   "metadata": {
    "scrolled": true
   },
   "outputs": [
    {
     "name": "stdout",
     "output_type": "stream",
     "text": [
      "(A,1,2)\n",
      "(B,3,4)\n",
      "(C,5,6)\n",
      "(D,7,8)\n"
     ]
    }
   ],
   "source": [
    "%%pig\n",
    "r = foreach u generate f1, flatten(f3);\n",
    "dump r;"
   ]
  },
  {
   "cell_type": "code",
   "execution_count": 6,
   "metadata": {},
   "outputs": [
    {
     "name": "stdout",
     "output_type": "stream",
     "text": [
      "Overwriting data.tsv\n"
     ]
    }
   ],
   "source": [
    "%%writefile data.tsv\n",
    "A\t10\t{(1),(2)}\n",
    "B\t20\t{(3),(4)}\n",
    "C\t30\t{(5),(6)}\n",
    "D\t40\t{(7),(8)}"
   ]
  },
  {
   "cell_type": "code",
   "execution_count": 7,
   "metadata": {},
   "outputs": [
    {
     "name": "stdout",
     "output_type": "stream",
     "text": [
      "(A,10,{(1),(2)})\n",
      "(B,20,{(3),(4)})\n",
      "(C,30,{(5),(6)})\n",
      "(D,40,{(7),(8)})\n"
     ]
    }
   ],
   "source": [
    "%%pig\n",
    "u = LOAD 'data.tsv'\n",
    "    AS (f1:chararray, f2:int, f3:bag{t:(p:int)});\n",
    "DUMP u;"
   ]
  },
  {
   "cell_type": "code",
   "execution_count": 8,
   "metadata": {},
   "outputs": [
    {
     "name": "stdout",
     "output_type": "stream",
     "text": [
      "(A,1)\n",
      "(A,2)\n",
      "(B,3)\n",
      "(B,4)\n",
      "(C,5)\n",
      "(C,6)\n",
      "(D,7)\n",
      "(D,8)\n"
     ]
    }
   ],
   "source": [
    "%%pig\n",
    "r = foreach u generate f1, flatten(f3);\n",
    "dump r;"
   ]
  },
  {
   "cell_type": "code",
   "execution_count": 9,
   "metadata": {},
   "outputs": [
    {
     "name": "stdout",
     "output_type": "stream",
     "text": [
      "(1)\n",
      "(2)\n",
      "(3)\n",
      "(4)\n",
      "(5)\n",
      "(6)\n",
      "(7)\n",
      "(8)\n"
     ]
    }
   ],
   "source": [
    "%%pig\n",
    "r = foreach u generate flatten(f3);\n",
    "dump r;"
   ]
  },
  {
   "cell_type": "code",
   "execution_count": 10,
   "metadata": {},
   "outputs": [
    {
     "name": "stdout",
     "output_type": "stream",
     "text": [
      "(1)\n",
      "(2)\n",
      "(3)\n",
      "(4)\n",
      "(5)\n",
      "(6)\n",
      "(7)\n",
      "(8)\n"
     ]
    }
   ],
   "source": [
    "%%pig\n",
    "--\n",
    "-- se pueden colocar varios comandos dentro de\n",
    "-- un foreach\n",
    "--\n",
    "r1 = foreach u {\n",
    "        generate flatten(f3);\n",
    "};\n",
    "dump r1;"
   ]
  },
  {
   "cell_type": "code",
   "execution_count": 11,
   "metadata": {},
   "outputs": [
    {
     "name": "stdout",
     "output_type": "stream",
     "text": [
      "(10.0)\n",
      "(20.0)\n",
      "(30.0)\n",
      "(40.0)\n"
     ]
    }
   ],
   "source": [
    "%%pig\n",
    "r1 = foreach u generate (double) $1;\n",
    "dump r1;"
   ]
  },
  {
   "cell_type": "markdown",
   "metadata": {},
   "source": [
    "## cogroup"
   ]
  },
  {
   "cell_type": "code",
   "execution_count": 13,
   "metadata": {},
   "outputs": [
    {
     "name": "stdout",
     "output_type": "stream",
     "text": [
      "Writing data0.tsv\n"
     ]
    }
   ],
   "source": [
    "%%writefile data0.tsv\n",
    "A\t10\t1\n",
    "B\t20\t2\n",
    "C\t30\t3\n",
    "D\t40\t4"
   ]
  },
  {
   "cell_type": "code",
   "execution_count": 14,
   "metadata": {},
   "outputs": [
    {
     "name": "stdout",
     "output_type": "stream",
     "text": [
      "Writing data1.tsv\n"
     ]
    }
   ],
   "source": [
    "%%writefile data1.tsv\n",
    "A\t50\t5\n",
    "B\t60\t6\n",
    "C\t70\t7\n",
    "D\t80\t8"
   ]
  },
  {
   "cell_type": "code",
   "execution_count": 16,
   "metadata": {},
   "outputs": [
    {
     "name": "stdout",
     "output_type": "stream",
     "text": [
      "(A,{(A,10,1)},{(A,50,5)})\n",
      "(B,{(B,20,2)},{(B,60,6)})\n",
      "(C,{(C,30,3)},{(C,70,7)})\n",
      "(D,{(D,40,4)},{(D,80,8)})\n"
     ]
    }
   ],
   "source": [
    "%%pig\n",
    "u = LOAD 'data0.tsv' AS (f1:chararray, f2:int, f3:int);\n",
    "v = LOAD 'data1.tsv' AS (f1:chararray, f4:int, f5:int);\n",
    "s = COGROUP u by f1, v by f1;\n",
    "dump s;"
   ]
  },
  {
   "cell_type": "markdown",
   "metadata": {},
   "source": [
    "## Union"
   ]
  },
  {
   "cell_type": "code",
   "execution_count": 17,
   "metadata": {},
   "outputs": [
    {
     "name": "stdout",
     "output_type": "stream",
     "text": [
      "(A,50,5)\n",
      "(B,60,6)\n",
      "(C,70,7)\n",
      "(D,80,8)\n",
      "(A,10,1)\n",
      "(B,20,2)\n",
      "(C,30,3)\n",
      "(D,40,4)\n"
     ]
    }
   ],
   "source": [
    "%%pig\n",
    "s = union u, v;\n",
    "dump s;"
   ]
  },
  {
   "cell_type": "markdown",
   "metadata": {},
   "source": [
    "## cross"
   ]
  },
  {
   "cell_type": "code",
   "execution_count": 19,
   "metadata": {},
   "outputs": [
    {
     "name": "stdout",
     "output_type": "stream",
     "text": [
      "(D,40,4,D,80,8)\n",
      "(D,40,4,C,70,7)\n",
      "(D,40,4,B,60,6)\n",
      "(D,40,4,A,50,5)\n",
      "(C,30,3,D,80,8)\n",
      "(C,30,3,C,70,7)\n",
      "(C,30,3,B,60,6)\n",
      "(C,30,3,A,50,5)\n",
      "(B,20,2,D,80,8)\n",
      "(B,20,2,C,70,7)\n",
      "(B,20,2,B,60,6)\n",
      "(B,20,2,A,50,5)\n",
      "(A,10,1,D,80,8)\n",
      "(A,10,1,C,70,7)\n",
      "(A,10,1,B,60,6)\n",
      "(A,10,1,A,50,5)\n"
     ]
    }
   ],
   "source": [
    "%%pig\n",
    "s = cross u, v;\n",
    "dump s;"
   ]
  },
  {
   "cell_type": "markdown",
   "metadata": {},
   "source": [
    "## rank"
   ]
  },
  {
   "cell_type": "code",
   "execution_count": 18,
   "metadata": {},
   "outputs": [
    {
     "name": "stdout",
     "output_type": "stream",
     "text": [
      "(1,A,10,1)\n",
      "(2,B,20,2)\n",
      "(3,C,30,3)\n",
      "(4,D,40,4)\n"
     ]
    }
   ],
   "source": [
    "%%pig\n",
    "s = rank u by f2;\n",
    "dump s;"
   ]
  },
  {
   "cell_type": "markdown",
   "metadata": {},
   "source": [
    "## stream"
   ]
  },
  {
   "cell_type": "markdown",
   "metadata": {},
   "source": [
    "Revise la documentación sobre este operador."
   ]
  },
  {
   "cell_type": "code",
   "execution_count": 20,
   "metadata": {},
   "outputs": [
    {
     "name": "stdout",
     "output_type": "stream",
     "text": [
      "(D,40,4,D,80,8)\n",
      "(D,40,4,C,70,7)\n",
      "(D,40,4,B,60,6)\n",
      "(D,40,4,A,50,5)\n",
      "(C,30,3,D,80,8)\n",
      "(C,30,3,C,70,7)\n",
      "(C,30,3,B,60,6)\n",
      "(C,30,3,A,50,5)\n",
      "(B,20,2,D,80,8)\n",
      "(B,20,2,C,70,7)\n",
      "(B,20,2,B,60,6)\n",
      "(B,20,2,A,50,5)\n",
      "(A,10,1,D,80,8)\n",
      "(A,10,1,C,70,7)\n",
      "(A,10,1,B,60,6)\n",
      "(A,10,1,A,50,5)\n"
     ]
    }
   ],
   "source": [
    "%%pig\n",
    "s = cross u, v;\n",
    "dump s;"
   ]
  },
  {
   "cell_type": "code",
   "execution_count": 21,
   "metadata": {},
   "outputs": [
    {
     "name": "stdout",
     "output_type": "stream",
     "text": [
      "===== Task Information Header =====\n",
      "Command: tail -n 2 (stdin-org.apache.pig.builtin.PigStreaming/stdout-org.apache.pig.builtin.PigStreaming)\n",
      "Start time: Tue Oct 16 20:53:26 COT 2018\n",
      "=====          * * *          =====\n",
      "===== Task Information Footer =====\n",
      "End time: Tue Oct 16 20:53:26 COT 2018\n",
      "Exit code: 0\n",
      "Input records: 16\n",
      "Input bytes: 3712 bytes (stdin using org.apache.pig.builtin.PigStreaming)\n",
      "Output records: 2\n",
      "Output bytes: 560 bytes (stdout using org.apache.pig.builtin.PigStreaming)\n",
      "=====          * * *          =====\n",
      "(A,10,1,B,60,6)\n",
      "(A,10,1,A,50,5)\n"
     ]
    }
   ],
   "source": [
    "%%pig\n",
    "w = STREAM s THROUGH  `tail -n 2 `;\n",
    "dump w;"
   ]
  },
  {
   "cell_type": "markdown",
   "metadata": {},
   "source": [
    "## cube"
   ]
  },
  {
   "cell_type": "code",
   "execution_count": 22,
   "metadata": {},
   "outputs": [
    {
     "name": "stdout",
     "output_type": "stream",
     "text": [
      "(A,10,1)\n",
      "(B,20,2)\n",
      "(C,30,3)\n",
      "(D,40,4)\n"
     ]
    }
   ],
   "source": [
    "%%pig \n",
    "dump u;"
   ]
  },
  {
   "cell_type": "code",
   "execution_count": 23,
   "metadata": {},
   "outputs": [
    {
     "name": "stdout",
     "output_type": "stream",
     "text": [
      "((A,10),{(A,10,1)})\n",
      "((A,),{(A,,1)})\n",
      "((B,20),{(B,20,2)})\n",
      "((B,),{(B,,2)})\n",
      "((C,30),{(C,30,3)})\n",
      "((C,),{(C,,3)})\n",
      "((D,40),{(D,40,4)})\n",
      "((D,),{(D,,4)})\n",
      "((,10),{(,10,1)})\n",
      "((,20),{(,20,2)})\n",
      "((,30),{(,30,3)})\n",
      "((,40),{(,40,4)})\n",
      "((,),{(,,4),(,,3),(,,1),(,,2)})\n"
     ]
    }
   ],
   "source": [
    "%%pig \n",
    "s = cube u by cube(f1, f2);\n",
    "dump s;"
   ]
  },
  {
   "cell_type": "markdown",
   "metadata": {},
   "source": [
    "## explain\n"
   ]
  },
  {
   "cell_type": "markdown",
   "metadata": {},
   "source": [
    "Revise la documentación sobre este operador."
   ]
  },
  {
   "cell_type": "markdown",
   "metadata": {},
   "source": [
    "## illustrate"
   ]
  },
  {
   "cell_type": "code",
   "execution_count": 24,
   "metadata": {},
   "outputs": [
    {
     "name": "stdout",
     "output_type": "stream",
     "text": [
      "(D,40,4)\n",
      "---------------------------------------------------------\n",
      "| u     | f1:chararray      | f2:int      | f3:int      | \n",
      "---------------------------------------------------------\n",
      "|       | D                 | 40          | 4           | \n",
      "|       | C                 | 30          | 3           | \n",
      "---------------------------------------------------------\n",
      "------------------------------------------------------------\n",
      "| cube     | f1:chararray      | f2:int      | f3:int      | \n",
      "------------------------------------------------------------\n",
      "|          | D                 | 40          | 4           | \n",
      "|          | D                 |             | 4           | \n",
      "|          |                   | 40          | 4           | \n",
      "|          |                   |             | 4           | \n",
      "|          | C                 | 30          | 3           | \n",
      "|          | C                 |             | 3           | \n",
      "|          |                   | 30          | 3           | \n",
      "|          |                   |             | 3           | \n",
      "------------------------------------------------------------\n",
      "-----------------------------------------------------------------------------------------------------------------------------------\n",
      "| s     | group:tuple(f1:chararray,f2:int)                | cube:bag{:tuple(f1:chararray,f2:int,f3:int)}                          | \n",
      "-----------------------------------------------------------------------------------------------------------------------------------\n",
      "|       | (C, 30)                                         | {(C, 30, 3)}                                                          | \n",
      "|       | (C, )                                           | {(C, , 3)}                                                            | \n",
      "|       | (D, 40)                                         | {(D, 40, 4)}                                                          | \n",
      "|       | (D, )                                           | {(D, , 4)}                                                            | \n",
      "|       | (, 30)                                          | {(, 30, 3)}                                                           | \n",
      "|       | (, 40)                                          | {(, 40, 4)}                                                           | \n",
      "|       | (, )                                            | {(, , 4), (, , 3)}                                                    | \n",
      "-----------------------------------------------------------------------------------------------------------------------------------\n",
      "\n"
     ]
    }
   ],
   "source": [
    "%%pig\n",
    "illustrate s;"
   ]
  },
  {
   "cell_type": "markdown",
   "metadata": {},
   "source": [
    "---"
   ]
  }
 ],
 "metadata": {
  "kernelspec": {
   "display_name": "Python 3",
   "language": "python",
   "name": "python3"
  },
  "language_info": {
   "codemirror_mode": {
    "name": "ipython",
    "version": 3
   },
   "file_extension": ".py",
   "mimetype": "text/x-python",
   "name": "python",
   "nbconvert_exporter": "python",
   "pygments_lexer": "ipython3",
   "version": "3.6.5"
  }
 },
 "nbformat": 4,
 "nbformat_minor": 2
}
