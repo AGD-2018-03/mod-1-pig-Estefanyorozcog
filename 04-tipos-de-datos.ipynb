{
 "cells": [
  {
   "cell_type": "markdown",
   "metadata": {},
   "source": [
    "Tipos de datos complejos\n",
    "===\n"
   ]
  },
  {
   "cell_type": "code",
   "execution_count": 1,
   "metadata": {},
   "outputs": [
    {
     "name": "stdout",
     "output_type": "stream",
     "text": [
      "\n"
     ]
    }
   ],
   "source": [
    "%run bd.py\n",
    "%pig_init"
   ]
  },
  {
   "cell_type": "markdown",
   "metadata": {},
   "source": [
    "## Datos simples"
   ]
  },
  {
   "cell_type": "markdown",
   "metadata": {},
   "source": [
    "Los siguientes son los tipos de datos soportados por Pig:\n",
    "\n",
    "     int      long      float       double      chararray  \n",
    "     boolean  datetime  biginteger  bigdecimal  bytearray\n"
   ]
  },
  {
   "cell_type": "markdown",
   "metadata": {},
   "source": [
    "## Datos complejos"
   ]
  },
  {
   "cell_type": "markdown",
   "metadata": {},
   "source": [
    "Apache Pig trabaja con la siguiente jerarquía de relaciones (http://pig.apache.org/docs/r0.17.0/basic.html#relations):\n",
    "\n",
    "* Una *tuple* es un ser de campos ordenados: (field1, field2, ....).\n",
    "* Una *bag* es un conjunto de tuplas: {(...), (...), ...}\n",
    "* Un *map* es un conjunto de parejas [key#value, ....]\n",
    "\n"
   ]
  },
  {
   "cell_type": "markdown",
   "metadata": {},
   "source": [
    "### Tuples"
   ]
  },
  {
   "cell_type": "code",
   "execution_count": 2,
   "metadata": {},
   "outputs": [
    {
     "name": "stdout",
     "output_type": "stream",
     "text": [
      "Writing data.tsv\n"
     ]
    }
   ],
   "source": [
    "%%writefile data.tsv\n",
    "A\t10\t(1, 2)\n",
    "B\t20\t(3, 4)\n",
    "C\t30\t(5, 6)\n",
    "D\t40\t(7, 8)"
   ]
  },
  {
   "cell_type": "code",
   "execution_count": 3,
   "metadata": {},
   "outputs": [
    {
     "name": "stdout",
     "output_type": "stream",
     "text": [
      "u: {f1: chararray,f2: int,f3: (p: int,q: int)}\n",
      "(A,10,(1,2))\n",
      "(B,20,(3,4))\n",
      "(C,30,(5,6))\n",
      "(D,40,(7,8))\n"
     ]
    }
   ],
   "source": [
    "%%pig\n",
    "--\n",
    "-- Los campos del archivo están separados por \n",
    "-- tabuladores.\n",
    "--\n",
    "u = LOAD 'data.tsv'\n",
    "    AS (f1:chararray, f2:int, f3:tuple(p:int, q:int));\n",
    "DUMP u;"
   ]
  },
  {
   "cell_type": "code",
   "execution_count": 4,
   "metadata": {},
   "outputs": [
    {
     "name": "stdout",
     "output_type": "stream",
     "text": [
      "(1,2)\n",
      "(3,4)\n",
      "(5,6)\n",
      "(7,8)\n"
     ]
    }
   ],
   "source": [
    "%%pig\n",
    "--\n",
    "-- Los campos de la tupla pueden ser accesados\n",
    "-- por nombre o por posición.\n",
    "--\n",
    "r = foreach u generate f3.p, f3.$1 ;   \n",
    "dump r;"
   ]
  },
  {
   "cell_type": "code",
   "execution_count": 5,
   "metadata": {},
   "outputs": [
    {
     "name": "stdout",
     "output_type": "stream",
     "text": [
      "u: {f1: chararray,f2: int,f3: (val_0: int,val_1: int)}\n",
      "(1,2)\n",
      "(3,4)\n",
      "(5,6)\n",
      "(7,8)\n"
     ]
    }
   ],
   "source": [
    "%%pig\n",
    "--\n",
    "-- Aquí se accesan los campos de la tupla por \n",
    "-- posición ya que no tienen nombre.\n",
    "--\n",
    "u = LOAD 'data.tsv' AS (f1:chararray, f2:int, f3:tuple(int, int));\n",
    "r = foreach u generate $2.$0, $2.$1;\n",
    "DUMP r;"
   ]
  },
  {
   "cell_type": "code",
   "execution_count": 6,
   "metadata": {},
   "outputs": [
    {
     "name": "stdout",
     "output_type": "stream",
     "text": [
      "Overwriting data.tsv\n"
     ]
    }
   ],
   "source": [
    "%%writefile data.tsv\n",
    "A\t(1,  2)\t(3,  4)\n",
    "B\t(5,  6)\t(7,  8)\n",
    "C\t(9, 10)\t(11, 12)"
   ]
  },
  {
   "cell_type": "code",
   "execution_count": 9,
   "metadata": {},
   "outputs": [],
   "source": [
    "%%pig\n",
    "--\n",
    "-- Se seleccionan los campos por nombre\n",
    "--\n",
    "u = LOAD 'data.tsv'\n",
    "    AS (f1: chararray, \n",
    "        t1: tuple(t1a: int, t1b: int), \n",
    "        t2: tuple(t2a: int, t2b: int)); \n",
    "r = foreach u generate f1, t2.t2b;"
   ]
  },
  {
   "cell_type": "markdown",
   "metadata": {},
   "source": [
    "### Bags"
   ]
  },
  {
   "cell_type": "code",
   "execution_count": 10,
   "metadata": {},
   "outputs": [
    {
     "name": "stdout",
     "output_type": "stream",
     "text": [
      "Overwriting data.tsv\n"
     ]
    }
   ],
   "source": [
    "%%writefile data.tsv\n",
    "A\t10\t{( 1,  2),( 3,  4)}\n",
    "B\t20\t{( 5,  6),( 7,  8)}\n",
    "C\t30\t{( 9, 10),(11, 12)}\n",
    "D\t40\t{(13, 14),(15, 16)}"
   ]
  },
  {
   "cell_type": "code",
   "execution_count": 19,
   "metadata": {},
   "outputs": [
    {
     "name": "stdout",
     "output_type": "stream",
     "text": [
      "({(1,2),(3,4)})\n",
      "({(5,6),(7,8)})\n",
      "({(9,10),(11,12)})\n",
      "({(13,14),(15,16)})\n"
     ]
    }
   ],
   "source": [
    "%%pig\n",
    "--\n",
    "-- Se selecciona el `bag` por nombre\n",
    "--\n",
    "u = LOAD 'data.tsv'\n",
    "    AS (f1:chararray, f2:int, f3:bag{t: tuple(p:int, q:int)});\n",
    "r = foreach u generate f3;\n",
    "dump r;"
   ]
  },
  {
   "cell_type": "code",
   "execution_count": 20,
   "metadata": {},
   "outputs": [
    {
     "name": "stdout",
     "output_type": "stream",
     "text": [
      "({(1),(3)})\n",
      "({(5),(7)})\n",
      "({(9),(11)})\n",
      "({(13),(15)})\n"
     ]
    }
   ],
   "source": [
    "%%pig\n",
    "r = foreach u generate f3.p;\n",
    "dump r;"
   ]
  },
  {
   "cell_type": "markdown",
   "metadata": {},
   "source": [
    "### Map"
   ]
  },
  {
   "cell_type": "code",
   "execution_count": 21,
   "metadata": {},
   "outputs": [
    {
     "name": "stdout",
     "output_type": "stream",
     "text": [
      "Overwriting data.tsv\n"
     ]
    }
   ],
   "source": [
    "%%writefile data.tsv\n",
    "A\t10\t[a#1,b#2]\n",
    "B\t20\t[a#3,c#4]\n",
    "C\t30\t[b#5,c#6]\n",
    "D\t40\t[b#7,c#8]"
   ]
  },
  {
   "cell_type": "code",
   "execution_count": 23,
   "metadata": {},
   "outputs": [
    {
     "name": "stdout",
     "output_type": "stream",
     "text": [
      "(1,)\n",
      "(3,4)\n",
      "(,6)\n",
      "(,8)\n"
     ]
    }
   ],
   "source": [
    "%%pig\n",
    "u = LOAD 'data.tsv'\n",
    "    AS (f1:chararray, f2:int, f3:map[]);\n",
    "r = foreach u generate f3#'a', f3#'c';\n",
    "dump r"
   ]
  },
  {
   "cell_type": "markdown",
   "metadata": {},
   "source": [
    "---"
   ]
  },
  {
   "cell_type": "code",
   "execution_count": null,
   "metadata": {},
   "outputs": [],
   "source": [
    "!rm attempt_local* pig_* persons.* data.* demo.py jointable.*"
   ]
  }
 ],
 "metadata": {
  "kernelspec": {
   "display_name": "Python 3",
   "language": "python",
   "name": "python3"
  },
  "language_info": {
   "codemirror_mode": {
    "name": "ipython",
    "version": 3
   },
   "file_extension": ".py",
   "mimetype": "text/x-python",
   "name": "python",
   "nbconvert_exporter": "python",
   "pygments_lexer": "ipython3",
   "version": "3.6.5"
  },
  "toc-autonumbering": false
 },
 "nbformat": 4,
 "nbformat_minor": 2
}
